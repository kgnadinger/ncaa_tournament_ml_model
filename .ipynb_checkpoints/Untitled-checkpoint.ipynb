{
 "cells": [
  {
   "cell_type": "code",
   "execution_count": 1,
   "metadata": {},
   "outputs": [],
   "source": [
    "import pandas as pd\n",
    "import numpy as np\n",
    "from bs4 import BeautifulSoup\n",
    "from bs4 import NavigableString\n",
    "\n",
    "data_dir = 'mens-machine-learning-competition-2019/DataFiles/'"
   ]
  },
  {
   "cell_type": "code",
   "execution_count": 2,
   "metadata": {},
   "outputs": [],
   "source": [
    "import requests"
   ]
  },
  {
   "cell_type": "code",
   "execution_count": 3,
   "metadata": {},
   "outputs": [],
   "source": [
    "df_teams = pd.read_csv(data_dir + \"Teams.csv\")"
   ]
  },
  {
   "cell_type": "code",
   "execution_count": 4,
   "metadata": {},
   "outputs": [],
   "source": [
    "team_sos = []"
   ]
  },
  {
   "cell_type": "code",
   "execution_count": 5,
   "metadata": {},
   "outputs": [
    {
     "name": "stdout",
     "output_type": "stream",
     "text": [
      "https://www.sports-reference.com/cbb/seasons/2000-ratings.html\n",
      "https://www.sports-reference.com/cbb/seasons/2001-ratings.html\n",
      "https://www.sports-reference.com/cbb/seasons/2002-ratings.html\n",
      "https://www.sports-reference.com/cbb/seasons/2003-ratings.html\n",
      "https://www.sports-reference.com/cbb/seasons/2004-ratings.html\n",
      "https://www.sports-reference.com/cbb/seasons/2005-ratings.html\n",
      "https://www.sports-reference.com/cbb/seasons/2006-ratings.html\n",
      "https://www.sports-reference.com/cbb/seasons/2007-ratings.html\n",
      "https://www.sports-reference.com/cbb/seasons/2008-ratings.html\n",
      "https://www.sports-reference.com/cbb/seasons/2009-ratings.html\n",
      "https://www.sports-reference.com/cbb/seasons/2010-ratings.html\n",
      "https://www.sports-reference.com/cbb/seasons/2011-ratings.html\n",
      "https://www.sports-reference.com/cbb/seasons/2012-ratings.html\n",
      "https://www.sports-reference.com/cbb/seasons/2013-ratings.html\n",
      "https://www.sports-reference.com/cbb/seasons/2014-ratings.html\n",
      "https://www.sports-reference.com/cbb/seasons/2015-ratings.html\n",
      "https://www.sports-reference.com/cbb/seasons/2016-ratings.html\n",
      "https://www.sports-reference.com/cbb/seasons/2017-ratings.html\n",
      "https://www.sports-reference.com/cbb/seasons/2018-ratings.html\n",
      "https://www.sports-reference.com/cbb/seasons/2019-ratings.html\n"
     ]
    },
    {
     "data": {
      "text/html": [
       "<div>\n",
       "<style scoped>\n",
       "    .dataframe tbody tr th:only-of-type {\n",
       "        vertical-align: middle;\n",
       "    }\n",
       "\n",
       "    .dataframe tbody tr th {\n",
       "        vertical-align: top;\n",
       "    }\n",
       "\n",
       "    .dataframe thead th {\n",
       "        text-align: right;\n",
       "    }\n",
       "</style>\n",
       "<table border=\"1\" class=\"dataframe\">\n",
       "  <thead>\n",
       "    <tr style=\"text-align: right;\">\n",
       "      <th></th>\n",
       "      <th>Season</th>\n",
       "      <th>TeamName</th>\n",
       "      <th>SOS</th>\n",
       "    </tr>\n",
       "  </thead>\n",
       "  <tbody>\n",
       "    <tr>\n",
       "      <th>0</th>\n",
       "      <td>2000</td>\n",
       "      <td>Stanford</td>\n",
       "      <td>7.12</td>\n",
       "    </tr>\n",
       "    <tr>\n",
       "      <th>1</th>\n",
       "      <td>2000</td>\n",
       "      <td>Duke</td>\n",
       "      <td>8.88</td>\n",
       "    </tr>\n",
       "    <tr>\n",
       "      <th>2</th>\n",
       "      <td>2000</td>\n",
       "      <td>Michigan State</td>\n",
       "      <td>9.91</td>\n",
       "    </tr>\n",
       "    <tr>\n",
       "      <th>3</th>\n",
       "      <td>2000</td>\n",
       "      <td>Cincinnati</td>\n",
       "      <td>8.50</td>\n",
       "    </tr>\n",
       "    <tr>\n",
       "      <th>4</th>\n",
       "      <td>2000</td>\n",
       "      <td>Florida</td>\n",
       "      <td>8.51</td>\n",
       "    </tr>\n",
       "    <tr>\n",
       "      <th>5</th>\n",
       "      <td>2000</td>\n",
       "      <td>Temple</td>\n",
       "      <td>6.94</td>\n",
       "    </tr>\n",
       "    <tr>\n",
       "      <th>6</th>\n",
       "      <td>2000</td>\n",
       "      <td>Texas</td>\n",
       "      <td>9.61</td>\n",
       "    </tr>\n",
       "    <tr>\n",
       "      <th>7</th>\n",
       "      <td>2000</td>\n",
       "      <td>Oklahoma State</td>\n",
       "      <td>6.59</td>\n",
       "    </tr>\n",
       "    <tr>\n",
       "      <th>8</th>\n",
       "      <td>2000</td>\n",
       "      <td>Tulsa</td>\n",
       "      <td>2.42</td>\n",
       "    </tr>\n",
       "    <tr>\n",
       "      <th>9</th>\n",
       "      <td>2000</td>\n",
       "      <td>Illinois</td>\n",
       "      <td>9.60</td>\n",
       "    </tr>\n",
       "  </tbody>\n",
       "</table>\n",
       "</div>"
      ],
      "text/plain": [
       "   Season        TeamName   SOS\n",
       "0    2000        Stanford  7.12\n",
       "1    2000            Duke  8.88\n",
       "2    2000  Michigan State  9.91\n",
       "3    2000      Cincinnati  8.50\n",
       "4    2000         Florida  8.51\n",
       "5    2000          Temple  6.94\n",
       "6    2000           Texas  9.61\n",
       "7    2000  Oklahoma State  6.59\n",
       "8    2000           Tulsa  2.42\n",
       "9    2000        Illinois  9.60"
      ]
     },
     "execution_count": 5,
     "metadata": {},
     "output_type": "execute_result"
    }
   ],
   "source": [
    "for season in range(2000, 2020):\n",
    "    url = \"https://www.sports-reference.com/cbb/seasons/{}-ratings.html\".format(season)\n",
    "    print(url)\n",
    "    page = requests.get(url)\n",
    "    soup = BeautifulSoup(page.content, 'html.parser')\n",
    "    tbody = soup.find('tbody').find_all('tr')  \n",
    "    for item in tbody:\n",
    "        if isinstance(item, NavigableString):\n",
    "                continue\n",
    "        if item.get('class') is None:\n",
    "            sos = item.find_all('td')[9].get_text()\n",
    "            team = item.find_all('td')[0].find('a').get_text()\n",
    "            team_sos.append([season, team, sos ])\n",
    "df_sos_rankings = pd.DataFrame(team_sos, columns=['Season', 'TeamName', 'SOS'])\n",
    "df_sos_rankings.head(10)"
   ]
  },
  {
   "cell_type": "code",
   "execution_count": 6,
   "metadata": {},
   "outputs": [],
   "source": [
    "df_sos_rankings.to_csv('/Users/kevingnadinger/Desktop/March Madness/sos.csv')"
   ]
  },
  {
   "cell_type": "code",
   "execution_count": 17,
   "metadata": {},
   "outputs": [
    {
     "ename": "AxisError",
     "evalue": "axis 1 is out of bounds for array of dimension 1",
     "output_type": "error",
     "traceback": [
      "\u001b[0;31m---------------------------------------------------------------------------\u001b[0m",
      "\u001b[0;31mAxisError\u001b[0m                                 Traceback (most recent call last)",
      "\u001b[0;32m<ipython-input-17-dce50ce11205>\u001b[0m in \u001b[0;36m<module>\u001b[0;34m\u001b[0m\n\u001b[0;32m----> 1\u001b[0;31m \u001b[0mwrong_names\u001b[0m \u001b[0;34m=\u001b[0m \u001b[0mdf_sos_rankings\u001b[0m\u001b[0;34m.\u001b[0m\u001b[0mTeamName\u001b[0m\u001b[0;34m.\u001b[0m\u001b[0munique\u001b[0m\u001b[0;34m(\u001b[0m\u001b[0;34m)\u001b[0m\u001b[0;34m.\u001b[0m\u001b[0msort\u001b[0m\u001b[0;34m(\u001b[0m\u001b[0maxis\u001b[0m\u001b[0;34m=\u001b[0m\u001b[0;36m1\u001b[0m\u001b[0;34m)\u001b[0m\u001b[0;34m\u001b[0m\u001b[0;34m\u001b[0m\u001b[0m\n\u001b[0m\u001b[1;32m      2\u001b[0m \u001b[0mprint\u001b[0m\u001b[0;34m(\u001b[0m\u001b[0mwrong_names\u001b[0m\u001b[0;34m)\u001b[0m\u001b[0;34m\u001b[0m\u001b[0;34m\u001b[0m\u001b[0m\n\u001b[1;32m      3\u001b[0m \u001b[0mnames\u001b[0m \u001b[0;34m=\u001b[0m \u001b[0mdf_teams\u001b[0m\u001b[0;34m.\u001b[0m\u001b[0mTeamName\u001b[0m\u001b[0;34m.\u001b[0m\u001b[0munique\u001b[0m\u001b[0;34m(\u001b[0m\u001b[0;34m)\u001b[0m\u001b[0;34m\u001b[0m\u001b[0;34m\u001b[0m\u001b[0m\n\u001b[1;32m      4\u001b[0m \u001b[0mprint\u001b[0m\u001b[0;34m(\u001b[0m\u001b[0mnames\u001b[0m\u001b[0;34m,\u001b[0m \u001b[0mwrong_names\u001b[0m\u001b[0;34m)\u001b[0m\u001b[0;34m\u001b[0m\u001b[0;34m\u001b[0m\u001b[0m\n\u001b[1;32m      5\u001b[0m \u001b[0mdata\u001b[0m \u001b[0;34m=\u001b[0m \u001b[0;34m[\u001b[0m\u001b[0;34m]\u001b[0m\u001b[0;34m\u001b[0m\u001b[0;34m\u001b[0m\u001b[0m\n",
      "\u001b[0;31mAxisError\u001b[0m: axis 1 is out of bounds for array of dimension 1"
     ]
    }
   ],
   "source": [
    "wrong_names = df_sos_rankings.TeamName.unique().sort(axis=0)\n",
    "print(wrong_names)\n",
    "names = df_teams.TeamName.unique()\n",
    "print(names, wrong_names)\n",
    "data = []\n",
    "for num in range(max(len(wrong_names), len(names))):\n",
    "    datum = []\n",
    "    if num < len(names):\n",
    "        datum.append(names[num])\n",
    "    else:\n",
    "        datum.append('')\n",
    "    if num < len(wrong_names):\n",
    "        datum.append(wrong_names[num]) \n",
    "    else:\n",
    "        datum.append('')\n",
    "    data.append(datum)\n",
    "\n",
    "df_team_comp = pd.DataFrame(data, columns=['Name', 'WrongName'])\n",
    "df_team_comp.head(100)"
   ]
  },
  {
   "cell_type": "code",
   "execution_count": null,
   "metadata": {},
   "outputs": [],
   "source": []
  },
  {
   "cell_type": "code",
   "execution_count": null,
   "metadata": {},
   "outputs": [],
   "source": []
  }
 ],
 "metadata": {
  "kernelspec": {
   "display_name": "Python 3",
   "language": "python",
   "name": "python3"
  },
  "language_info": {
   "codemirror_mode": {
    "name": "ipython",
    "version": 3
   },
   "file_extension": ".py",
   "mimetype": "text/x-python",
   "name": "python",
   "nbconvert_exporter": "python",
   "pygments_lexer": "ipython3",
   "version": "3.7.2"
  }
 },
 "nbformat": 4,
 "nbformat_minor": 2
}
